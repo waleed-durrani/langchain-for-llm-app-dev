{
  "nbformat": 4,
  "nbformat_minor": 0,
  "metadata": {
    "colab": {
      "provenance": [],
      "authorship_tag": "ABX9TyM61g0QTICBQ+qfs6Qm8+Pd",
      "include_colab_link": true
    },
    "kernelspec": {
      "name": "python3",
      "display_name": "Python 3"
    },
    "language_info": {
      "name": "python"
    }
  },
  "cells": [
    {
      "cell_type": "markdown",
      "metadata": {
        "id": "view-in-github",
        "colab_type": "text"
      },
      "source": [
        "<a href=\"https://colab.research.google.com/github/waleed-durrani/langchain-for-llm-app-dev/blob/main/LangChain_for_LLM_Application_Development.ipynb\" target=\"_parent\"><img src=\"https://colab.research.google.com/assets/colab-badge.svg\" alt=\"Open In Colab\"/></a>"
      ]
    },
    {
      "cell_type": "markdown",
      "source": [
        "# **LangChain for LLM Application Development**\n",
        "## LangChain: Models, Prompts and Output Parsers\n",
        "\n",
        "---"
      ],
      "metadata": {
        "id": "u47yhxSRtmbq"
      }
    },
    {
      "cell_type": "code",
      "execution_count": null,
      "metadata": {
        "id": "JRsqFX_Otjfq"
      },
      "outputs": [],
      "source": [
        "from langchain.chat_models import ChatOpenAI\n",
        "from langchain.prompts import ChatPromptTemplate\n",
        "\n",
        "chat = ChatOpenAI(model=\"gpt-3.5-turbo\", temperature=0.0)\n",
        "\n",
        "# print(chat)\n",
        "\n",
        "# to_translate = f\"\"\"my name is Waleed and my caste is Durrani\"\"\"\n",
        "\n",
        "to_translate = input(\"Type here: \")\n",
        "to_language = \"Urdu\"\n",
        "\n",
        "template_str = f\"\"\"Translate the text delimited by triple backticks into the language {to_language}\n",
        "text: ```{to_translate}```\n",
        "\n",
        "\"\"\"\n",
        "\n",
        "prompt_template = ChatPromptTemplate.from_template(template_str)\n",
        "\n",
        "msg_to_openai = prompt_template.format_messages(to_language=to_language, to_translate=to_language)\n",
        "\n",
        "response = chat(msg_to_openai)\n",
        "\n",
        "print(response.content)\n",
        "\n",
        "# print(msg_to_openai.content)\n",
        "\n",
        "# print(msg_to_openai[0].content)\n",
        "\n",
        "# print(chat(response))\n"
      ]
    }
  ]
}